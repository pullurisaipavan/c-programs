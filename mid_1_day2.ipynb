{
  "cells": [
    {
      "cell_type": "markdown",
      "metadata": {
        "id": "view-in-github",
        "colab_type": "text"
      },
      "source": [
        "<a href=\"https://colab.research.google.com/github/pullurisaipavan/c-programs/blob/main/mid_1_day2.ipynb\" target=\"_parent\"><img src=\"https://colab.research.google.com/assets/colab-badge.svg\" alt=\"Open In Colab\"/></a>"
      ]
    },
    {
      "cell_type": "code",
      "execution_count": null,
      "metadata": {
        "colab": {
          "base_uri": "https://localhost:8080/"
        },
        "id": "sfDawJkMI1Q6",
        "outputId": "115c1575-9e04-4f43-f5ee-4cd46a69a93c"
      },
      "outputs": [
        {
          "name": "stdout",
          "output_type": "stream",
          "text": [
            "2\n",
            "3\n",
            "8\n"
          ]
        }
      ],
      "source": [
        "#write a program to find power of number with recurssion and without recurssion\n",
        "#n=2,p=3\n",
        "#without recurssion\n",
        "import math\n",
        "n=int(input())\n",
        "p=int(input())\n",
        "k=print(pow(n,p))"
      ]
    },
    {
      "cell_type": "code",
      "execution_count": null,
      "metadata": {
        "colab": {
          "base_uri": "https://localhost:8080/"
        },
        "id": "ZtSKT1xrJ8bC",
        "outputId": "1ded57e0-1be0-4d54-b9d2-09b3e3af928b"
      },
      "outputs": [
        {
          "name": "stdout",
          "output_type": "stream",
          "text": [
            "2\n",
            "3\n",
            "8\n"
          ]
        }
      ],
      "source": [
        "#with recurssion\n",
        "import math\n",
        "def power():\n",
        "  if(n>0):\n",
        "    return pow(n,p)\n",
        "\n",
        "n=int(input())\n",
        "p=int(input())\n",
        "power()\n",
        "k=print(pow(n,p))"
      ]
    },
    {
      "cell_type": "code",
      "execution_count": null,
      "metadata": {
        "colab": {
          "background_save": true,
          "base_uri": "https://localhost:8080/"
        },
        "id": "sA8pwLJMKJgn",
        "outputId": "7a49fb6d-f513-43fa-d1ce-314873bbfd26"
      },
      "outputs": [
        {
          "name": "stdout",
          "output_type": "stream",
          "text": [
            "[(3, 4, 6, 723), (1, 2), (134, 234, 34)]\n"
          ]
        }
      ],
      "source": [
        "#write a program to sort tuple by total digits \n",
        "#input a=[(3,4,6,723),(1,2),(134,234,34)]\n",
        "a=[(3,4,6,723),(1,2),(134,234,34)]\n",
        "b=str(a)\n",
        "print(b)\n",
        "\n"
      ]
    },
    {
      "cell_type": "code",
      "execution_count": 1,
      "metadata": {
        "id": "rd6NCGIKKmHX",
        "colab": {
          "base_uri": "https://localhost:8080/"
        },
        "outputId": "f743615f-3f0d-4652-e3b4-a924502e8b2f"
      },
      "outputs": [
        {
          "output_type": "stream",
          "name": "stdout",
          "text": [
            "23\n",
            "43\n",
            "54\n",
            "65\n",
            "76\n",
            "B grade\n"
          ]
        }
      ],
      "source": [
        "#take 5 subject marks from user and diplay the grade of the student \n",
        "#con:if average is 90-100 o grade80-89 a+70-79 a60-69 b+<40 fail\n",
        "s1=int(input())\n",
        "s2=int(input())\n",
        "s3=int(input())\n",
        "s4=int(input())\n",
        "s5=int(input())\n",
        "avg=(s1+s2+s3+s4+s5)/5\n",
        "if avg>=90:\n",
        "  print(\"O grade\")\n",
        "elif avg>=80:\n",
        "  print(\"A+ grade\")\n",
        "elif avg>=70:\n",
        "  print(\"A grade\")\n",
        "elif avg>=60:\n",
        "  print(\"B+ grade\")\n",
        "elif avg>=50:\n",
        "  print(\"B grade\")\n",
        "elif avg>=40:\n",
        "  print(\"C grade\")\n",
        "else:\n",
        "  print(\"Fail8\")"
      ]
    },
    {
      "cell_type": "code",
      "execution_count": 2,
      "metadata": {
        "id": "-r8MtXchLPsI",
        "colab": {
          "base_uri": "https://localhost:8080/"
        },
        "outputId": "b8183337-6996-4123-ea9c-a9fa3f2a10d0"
      },
      "outputs": [
        {
          "output_type": "stream",
          "name": "stdout",
          "text": [
            "21\n",
            "2\n",
            "3\n",
            "1\n"
          ]
        }
      ],
      "source": [
        "#write a python program that prints 1 if all the three given numbers are ascending order if not print 0\n",
        "a=int(input())\n",
        "b=int(input())\n",
        "c=int(input())\n",
        "d=[a,b,c]\n",
        "e=d\n",
        "d.sort()\n",
        "if d==e:\n",
        "  print(\"1\")\n",
        "else:\n",
        "  print(\"0\")"
      ]
    },
    {
      "cell_type": "code",
      "execution_count": 3,
      "metadata": {
        "id": "jM-8u_0eLqaD",
        "colab": {
          "base_uri": "https://localhost:8080/"
        },
        "outputId": "efffd2d3-2089-474c-ec4c-022c11d14e61"
      },
      "outputs": [
        {
          "output_type": "stream",
          "name": "stdout",
          "text": [
            "121\n",
            "not perfect number\n"
          ]
        }
      ],
      "source": [
        "#check the given number is perfect number or not\n",
        "a=int(input())\n",
        "b=a\n",
        "c=0\n",
        "for i in range(1,a):\n",
        "  if a%i==0:\n",
        "    c+=i\n",
        "if c==b:\n",
        "  print(\"perfect number\")\n",
        "else:\n",
        "  print(\"not perfect number\")"
      ]
    },
    {
      "cell_type": "code",
      "execution_count": 4,
      "metadata": {
        "colab": {
          "base_uri": "https://localhost:8080/"
        },
        "id": "0TqnBrKQMDUa",
        "outputId": "2e1d9363-c7bb-48cf-afd2-81a8f31781a4"
      },
      "outputs": [
        {
          "output_type": "stream",
          "name": "stdout",
          "text": [
            "121\n",
            "palindrome\n"
          ]
        }
      ],
      "source": [
        "#check the given string is palindrome or not \n",
        "s=input()\n",
        "a = \"\"\n",
        "for i in s:\n",
        "  a = i + a\n",
        "if a==s:\n",
        "  print(\"palindrome\")\n",
        "else:\n",
        "  print(\"Not palindrome\")\n",
        "\n"
      ]
    },
    {
      "cell_type": "code",
      "execution_count": 5,
      "metadata": {
        "id": "pGTfPsspMfSx",
        "colab": {
          "base_uri": "https://localhost:8080/"
        },
        "outputId": "c80b21cb-8088-46f0-ae05-8bbfefcb6990"
      },
      "outputs": [
        {
          "output_type": "stream",
          "name": "stdout",
          "text": [
            "enter a number2\n",
            "enter another number3\n",
            "1\n"
          ]
        }
      ],
      "source": [
        "#find the gcd of given numbers with and without recurssion\n",
        "\n",
        "a=int(input(\"enter a number\"))\n",
        "b=int(input(\"enter another number\"))\n",
        "k=a if (a<b) else b\n",
        "while True:\n",
        "  if(a%k==0 and b%k==0):\n",
        "    break\n",
        "  k-=1\n",
        "print(k)"
      ]
    },
    {
      "cell_type": "code",
      "execution_count": 6,
      "metadata": {
        "id": "1aU0Oc2xMyhB",
        "colab": {
          "base_uri": "https://localhost:8080/"
        },
        "outputId": "23d96edf-5669-44f9-f709-863da457046e"
      },
      "outputs": [
        {
          "output_type": "stream",
          "name": "stdout",
          "text": [
            "123456\n",
            "12\n"
          ]
        }
      ],
      "source": [
        "#print sum of even digits in a given number\n",
        "a=int(input())\n",
        "s=0\n",
        "while a>0:\n",
        "  d=a%10\n",
        "  if d%2==0:\n",
        "    s=s+d\n",
        "  a=a//10\n",
        "print(s)"
      ]
    },
    {
      "cell_type": "code",
      "execution_count": 7,
      "metadata": {
        "id": "1l6FzPMjNGRi",
        "colab": {
          "base_uri": "https://localhost:8080/"
        },
        "outputId": "e75f3f64-fae3-4c79-a9d5-33f28d5077ea"
      },
      "outputs": [
        {
          "output_type": "stream",
          "name": "stdout",
          "text": [
            "1233\n",
            "23\n"
          ]
        }
      ],
      "source": [
        "#write a program to calculate sum of squares of digits of a number given by user123 1^2+2^2+3^3=14\n",
        "a=int(input())\n",
        "s=0\n",
        "while a>0:\n",
        "  d=a%10\n",
        "  s=s+d*d\n",
        "  a=a//10\n",
        "print(s)"
      ]
    },
    {
      "cell_type": "code",
      "execution_count": 8,
      "metadata": {
        "id": "f6Rr3EefNdWA",
        "colab": {
          "base_uri": "https://localhost:8080/"
        },
        "outputId": "d57b3f24-004b-440f-df5c-d7fbe84a4489"
      },
      "outputs": [
        {
          "output_type": "stream",
          "name": "stdout",
          "text": [
            "abcdef\n",
            "0\n"
          ]
        }
      ],
      "source": [
        "#given a string is s=\"abcdefcba\"how many times ith output is 3\n",
        "#print count front back matches\n",
        "a=input()\n",
        "c=0\n",
        "for i in range(len(a)//2):\n",
        "  d=i+1\n",
        "  if a[i]==a[-d]:\n",
        "    c+=1\n",
        "print(c)"
      ]
    },
    {
      "cell_type": "code",
      "execution_count": 9,
      "metadata": {
        "id": "qbVaaq0SOAN5",
        "colab": {
          "base_uri": "https://localhost:8080/",
          "height": 235
        },
        "outputId": "15091aaa-ea31-4a3e-b79e-741ab1391727"
      },
      "outputs": [
        {
          "name": "stdout",
          "output_type": "stream",
          "text": [
            "11223333\n"
          ]
        },
        {
          "output_type": "error",
          "ename": "KeyboardInterrupt",
          "evalue": "ignored",
          "traceback": [
            "\u001b[0;31m---------------------------------------------------------------------------\u001b[0m",
            "\u001b[0;31mKeyboardInterrupt\u001b[0m                         Traceback (most recent call last)",
            "\u001b[0;32m<ipython-input-9-80062a1f8420>\u001b[0m in \u001b[0;36m<module>\u001b[0;34m()\u001b[0m\n\u001b[1;32m      5\u001b[0m \u001b[0;32mfor\u001b[0m \u001b[0mi\u001b[0m \u001b[0;32min\u001b[0m \u001b[0mrange\u001b[0m\u001b[0;34m(\u001b[0m\u001b[0;36m1\u001b[0m\u001b[0;34m,\u001b[0m\u001b[0ma\u001b[0m\u001b[0;34m+\u001b[0m\u001b[0;36m1\u001b[0m\u001b[0;34m)\u001b[0m\u001b[0;34m:\u001b[0m\u001b[0;34m\u001b[0m\u001b[0;34m\u001b[0m\u001b[0m\n\u001b[1;32m      6\u001b[0m   \u001b[0;32mfor\u001b[0m \u001b[0mj\u001b[0m \u001b[0;32min\u001b[0m \u001b[0mrange\u001b[0m\u001b[0;34m(\u001b[0m\u001b[0mi\u001b[0m\u001b[0;34m)\u001b[0m\u001b[0;34m:\u001b[0m\u001b[0;34m\u001b[0m\u001b[0;34m\u001b[0m\u001b[0m\n\u001b[0;32m----> 7\u001b[0;31m     \u001b[0mb\u001b[0m\u001b[0;34m.\u001b[0m\u001b[0mappend\u001b[0m\u001b[0;34m(\u001b[0m\u001b[0mi\u001b[0m\u001b[0;34m)\u001b[0m\u001b[0;34m\u001b[0m\u001b[0;34m\u001b[0m\u001b[0m\n\u001b[0m\u001b[1;32m      8\u001b[0m \u001b[0mprint\u001b[0m\u001b[0;34m(\u001b[0m\u001b[0mb\u001b[0m\u001b[0;34m)\u001b[0m\u001b[0;34m\u001b[0m\u001b[0;34m\u001b[0m\u001b[0m\n",
            "\u001b[0;31mKeyboardInterrupt\u001b[0m: "
          ]
        }
      ],
      "source": [
        "#given an integer n ,return a list containing 11223334444 and finally n repeated n times (n>0)\n",
        "#print(repeatnumber(4))\n",
        "a=int(input())\n",
        "b=[]\n",
        "for i in range(1,a+1):\n",
        "  for j in range(i):\n",
        "    b.append(i)\n",
        "print(b)"
      ]
    },
    {
      "cell_type": "code",
      "execution_count": 10,
      "metadata": {
        "id": "YLq7We9FPGqb",
        "colab": {
          "base_uri": "https://localhost:8080/"
        },
        "outputId": "28bb1d81-4883-4ac4-d6a0-e6e760eead3b"
      },
      "outputs": [
        {
          "output_type": "stream",
          "name": "stdout",
          "text": [
            "awdSAWF\n",
            "vowels= 1\n",
            "consonants= 6\n"
          ]
        }
      ],
      "source": [
        "#print number of vowels and consonants in a string\n",
        "a=input()\n",
        "v=0\n",
        "c=0\n",
        "for i in range(len(a)):\n",
        "  if a[i]=='a' or a[i]=='e' or a[i]=='i' or a[i]=='o' or a[i]=='u':\n",
        "    v+=1\n",
        "  else:\n",
        "    c+=1\n",
        "print(\"vowels=\",v)\n",
        "print('consonants=',c)"
      ]
    },
    {
      "cell_type": "code",
      "execution_count": 11,
      "metadata": {
        "id": "81uCg1o-PhQU",
        "colab": {
          "base_uri": "https://localhost:8080/"
        },
        "outputId": "dc2db5a0-8e4f-4353-c9ed-8209bb1a4af8"
      },
      "outputs": [
        {
          "output_type": "stream",
          "name": "stdout",
          "text": [
            "12\n",
            "15\n",
            "12 13 14 15 "
          ]
        }
      ],
      "source": [
        "#given two integers a and b if a is less than b,print all numbers between ascending order if a is greater than b print all numbers in descending order\n",
        "#12 ,15 and -12,-15\n",
        "a=int(input())\n",
        "b=int(input())\n",
        "if a>b:\n",
        "  while a>=b:\n",
        "    print(a,end=\" \")\n",
        "    a-=1\n",
        "else:\n",
        "  for i in range(a,b+1):\n",
        "    print(i,end=\" \")"
      ]
    },
    {
      "cell_type": "code",
      "execution_count": 12,
      "metadata": {
        "id": "zMmYoH69QXep",
        "colab": {
          "base_uri": "https://localhost:8080/"
        },
        "outputId": "448acb8d-cf2d-442e-ec7e-ef3b7f9af62d"
      },
      "outputs": [
        {
          "output_type": "stream",
          "name": "stdout",
          "text": [
            "3\n",
            "['devender', 'srikar', 'omsri', 'mahi', 'sohan', 'abhi']\n"
          ]
        }
      ],
      "source": [
        "#given a list of city names print the city names whose length is greater than the given length\n",
        "a=['devender','srikar','omsri','mahi','sohan','abhi']\n",
        "b=int(input())\n",
        "c=[]\n",
        "for i in a:\n",
        "  if len(i)>=b:\n",
        "    c.append(i)\n",
        "print(c)"
      ]
    }
  ],
  "metadata": {
    "colab": {
      "name": "mid 1 day2.ipynb",
      "provenance": [],
      "authorship_tag": "ABX9TyN09pYv0bTWfgmtADOKKXNs",
      "include_colab_link": true
    },
    "kernelspec": {
      "display_name": "Python 3",
      "name": "python3"
    },
    "language_info": {
      "name": "python"
    }
  },
  "nbformat": 4,
  "nbformat_minor": 0
}